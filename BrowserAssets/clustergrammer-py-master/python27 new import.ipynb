{
 "cells": [
  {
   "cell_type": "code",
   "execution_count": 1,
   "metadata": {
    "collapsed": true
   },
   "outputs": [],
   "source": [
    "import numpy as np\n",
    "import pandas as pd\n",
    "\n",
    "# import clustergrammer_widget\n",
    "from clustergrammer_widget import *\n",
    "\n",
    "# use local clustergrammer\n",
    "from clustergrammer import Network"
   ]
  },
  {
   "cell_type": "code",
   "execution_count": 2,
   "metadata": {},
   "outputs": [
    {
     "data": {
      "text/plain": [
       "'\\n  version 1.12.4\\n\\n  Clustergrammer.py takes a matrix as input (either from a file of a Pandas DataFrame), normalizes/filters, hierarchically clusters, and produces the :ref:`visualization_json` for :ref:`clustergrammer_js`.\\n\\n  Networks have two states:\\n\\n    1. the data state, where they are stored as a matrix and nodes\\n    2. the viz state where they are stored as viz.links, viz.row_nodes, and viz.col_nodes.\\n\\n  The goal is to start in a data-state and produce a viz-state of\\n  the network that will be used as input to clustergram.js.\\n  '"
      ]
     },
     "execution_count": 2,
     "metadata": {},
     "output_type": "execute_result"
    }
   ],
   "source": [
    "net = Network(clustergrammer_widget)\n",
    "net.__doc__"
   ]
  },
  {
   "cell_type": "code",
   "execution_count": 10,
   "metadata": {
    "collapsed": true
   },
   "outputs": [],
   "source": [
    "# generate random matrix\n",
    "num_rows = 500\n",
    "num_cols = 10\n",
    "np.random.seed(seed=100)\n",
    "mat = np.random.rand(num_rows, num_cols)\n",
    "\n",
    "# make row and col labels\n",
    "rows = range(num_rows)\n",
    "cols = range(num_cols)\n",
    "rows = [str(i) for i in rows]\n",
    "cols = [str(i) for i in cols]\n",
    "\n",
    "# make dataframe \n",
    "df = pd.DataFrame(data=mat, columns=cols, index=rows)"
   ]
  },
  {
   "cell_type": "code",
   "execution_count": 11,
   "metadata": {},
   "outputs": [
    {
     "data": {
      "application/vnd.jupyter.widget-view+json": {
       "model_id": "dfd54aa4aff347d2be76a753c0fdee93"
      }
     },
     "metadata": {},
     "output_type": "display_data"
    }
   ],
   "source": [
    "net.load_df(df)\n",
    "net.cluster()\n",
    "net.widget()"
   ]
  },
  {
   "cell_type": "code",
   "execution_count": 12,
   "metadata": {},
   "outputs": [
    {
     "data": {
      "application/vnd.jupyter.widget-view+json": {
       "model_id": "7b8846afd6cd4aa49556935cc23350e9"
      }
     },
     "metadata": {},
     "output_type": "display_data"
    }
   ],
   "source": [
    "net.load_file('txt/rc_two_cats.txt')\n",
    "net.cluster()\n",
    "net.widget()"
   ]
  },
  {
   "cell_type": "code",
   "execution_count": null,
   "metadata": {
    "collapsed": true
   },
   "outputs": [],
   "source": []
  }
 ],
 "metadata": {
  "anaconda-cloud": {},
  "kernelspec": {
   "display_name": "Python [Root]",
   "language": "python",
   "name": "Python [Root]"
  },
  "language_info": {
   "codemirror_mode": {
    "name": "ipython",
    "version": 2
   },
   "file_extension": ".py",
   "mimetype": "text/x-python",
   "name": "python",
   "nbconvert_exporter": "python",
   "pygments_lexer": "ipython2",
   "version": "2.7.12"
  }
 },
 "nbformat": 4,
 "nbformat_minor": 2
}
